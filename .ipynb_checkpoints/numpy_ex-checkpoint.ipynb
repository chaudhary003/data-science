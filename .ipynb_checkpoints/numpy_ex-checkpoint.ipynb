{
 "cells": [
  {
   "cell_type": "code",
   "execution_count": 3,
   "metadata": {},
   "outputs": [
    {
     "name": "stdout",
     "output_type": "stream",
     "text": [
      "[  1   2   3   1   2   3 156]\n"
     ]
    }
   ],
   "source": [
    "import numpy as np \n",
    "a=np.array([1,2,3,1,2,3,156,])\n",
    "a*2\n",
    "print(a)\n"
   ]
  },
  {
   "cell_type": "code",
   "execution_count": 5,
   "metadata": {},
   "outputs": [
    {
     "name": "stdout",
     "output_type": "stream",
     "text": [
      "hello python\n",
      "this is fun to run this type of file\n"
     ]
    }
   ],
   "source": [
    "%run hello.py\n"
   ]
  },
  {
   "cell_type": "raw",
   "metadata": {},
   "source": [
    "%run hello.py"
   ]
  },
  {
   "cell_type": "code",
   "execution_count": 6,
   "metadata": {},
   "outputs": [
    {
     "name": "stdout",
     "output_type": "stream",
     "text": [
      "hello python\n",
      "this is fun to run this type of file\n"
     ]
    }
   ],
   "source": [
    "%run hello.py"
   ]
  },
  {
   "cell_type": "code",
   "execution_count": 8,
   "metadata": {},
   "outputs": [
    {
     "name": "stdout",
     "output_type": "stream",
     "text": [
      "{0: <built-in method randn of mtrand.RandomState object at 0x000001EA99AB10E8>, 1: <built-in method randn of mtrand.RandomState object at 0x000001EA99AB10E8>, 2: <built-in method randn of mtrand.RandomState object at 0x000001EA99AB10E8>, 3: <built-in method randn of mtrand.RandomState object at 0x000001EA99AB10E8>, 4: <built-in method randn of mtrand.RandomState object at 0x000001EA99AB10E8>, 5: <built-in method randn of mtrand.RandomState object at 0x000001EA99AB10E8>, 6: <built-in method randn of mtrand.RandomState object at 0x000001EA99AB10E8>}\n"
     ]
    }
   ],
   "source": [
    "import numpy as np\n",
    "data={i: np.random.randn for i in range(7)}\n",
    "print(data)"
   ]
  }
 ],
 "metadata": {
  "kernelspec": {
   "display_name": "Python 3",
   "language": "python",
   "name": "python3"
  },
  "language_info": {
   "codemirror_mode": {
    "name": "ipython",
    "version": 3
   },
   "file_extension": ".py",
   "mimetype": "text/x-python",
   "name": "python",
   "nbconvert_exporter": "python",
   "pygments_lexer": "ipython3",
   "version": "3.7.4"
  }
 },
 "nbformat": 4,
 "nbformat_minor": 2
}
