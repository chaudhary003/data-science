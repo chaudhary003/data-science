{
 "cells": [
  {
   "cell_type": "markdown",
   "metadata": {},
   "source": [
    "# Regular expression"
   ]
  },
  {
   "cell_type": "code",
   "execution_count": 3,
   "metadata": {},
   "outputs": [],
   "source": [
    "#Finding patterns of texts without regular espression\n",
    "def isPhoneNumber(string):\n",
    "    if len(string) !=12:\n",
    "        return False\n",
    "    for i in range(0,4):\n",
    "        if not string[i].isdecimal():\n",
    "            return False\n",
    "    if string[4] !='-':\n",
    "        return False\n",
    "    for i in range(5,8):\n",
    "        if not string[i].isdecimal():\n",
    "            return False\n",
    "    if string[8] !='-':\n",
    "        return False\n",
    "    for i in range(9,12):\n",
    "        if not string[i].isdecimal():\n",
    "            return False\n",
    "    return True\n",
    "\n",
    "    \n",
    "        \n",
    "        \n",
    "\n",
    "    "
   ]
  },
  {
   "cell_type": "code",
   "execution_count": 6,
   "metadata": {},
   "outputs": [],
   "source": [
    "string='9999-634-811'"
   ]
  },
  {
   "cell_type": "code",
   "execution_count": 7,
   "metadata": {},
   "outputs": [
    {
     "data": {
      "text/plain": [
       "True"
      ]
     },
     "execution_count": 7,
     "metadata": {},
     "output_type": "execute_result"
    }
   ],
   "source": [
    "isPhoneNumber(string)"
   ]
  },
  {
   "cell_type": "code",
   "execution_count": null,
   "metadata": {},
   "outputs": [],
   "source": []
  }
 ],
 "metadata": {
  "kernelspec": {
   "display_name": "Python 3",
   "language": "python",
   "name": "python3"
  },
  "language_info": {
   "codemirror_mode": {
    "name": "ipython",
    "version": 3
   },
   "file_extension": ".py",
   "mimetype": "text/x-python",
   "name": "python",
   "nbconvert_exporter": "python",
   "pygments_lexer": "ipython3",
   "version": "3.7.4"
  }
 },
 "nbformat": 4,
 "nbformat_minor": 2
}
